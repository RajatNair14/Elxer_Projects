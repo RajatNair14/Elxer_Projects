{
 "cells": [
  {
   "cell_type": "code",
   "execution_count": 1,
   "metadata": {},
   "outputs": [
    {
     "name": "stdout",
     "output_type": "stream",
     "text": [
      "WARNING:tensorflow:From c:\\Users\\rajat.n_elxer\\AppData\\Local\\Programs\\Python\\Python311\\Lib\\site-packages\\keras\\src\\losses.py:2976: The name tf.losses.sparse_softmax_cross_entropy is deprecated. Please use tf.compat.v1.losses.sparse_softmax_cross_entropy instead.\n",
      "\n"
     ]
    }
   ],
   "source": [
    "# import numpy as np\n",
    "# import pandas as pd\n",
    "# from tensorflow import keras\n",
    "# import datetime\n",
    "# from tensorflow.keras.models import Sequential\n",
    "# from tensorflow.keras.layers import Dense, Conv2D, Flatten, Dropout, MaxPooling2D\n",
    "# from tensorflow.keras.preprocessing.image import ImageDataGenerator\n",
    "# from tensorflow.keras import regularizers\n",
    "# import matplotlib.pyplot as plt\n",
    "# import cv2\n",
    "# from autocorrect import spell\n",
    "\n",
    "# import tensorflow as tf\n",
    "# tf.compat.v1.losses.sparse_softmax_cross_entropy \n",
    "# import PIL\n",
    "# from PIL import ImageDraw"
   ]
  },
  {
   "cell_type": "code",
   "execution_count": 20,
   "metadata": {},
   "outputs": [],
   "source": [
    "# from PIL import Image\n",
    "# import pytesseract\n",
    "\n",
    "# # Set the path to the Tesseract executable (update this path based on your installation)\n",
    "# pytesseract.pytesseract.tesseract_cmd=r\"C:\\Users\\rajat.n_elxer\\AppData\\Local\\Programs\\Tesseract-OCR\\tesseract.exe\"\n",
    "\n",
    "\n",
    "# # Load the image\n",
    "# image_path = 'text.jpeg'  # Provide the path to your image\n",
    "# image = Image.open(image_path)\n",
    "\n",
    "# # Use pytesseract to perform OCR and get character boxes\n",
    "# custom_config = r'--oem 3 --psm 6 outputbase digits'  # Adjust OCR configuration as needed\n",
    "# boxes = pytesseract.image_to_boxes(image, config=custom_config)\n",
    "\n",
    "# # Draw bounding boxes on the image\n",
    "# image_with_boxes = image.copy()\n",
    "# draw = ImageDraw.Draw(image_with_boxes)\n",
    "# for box in boxes.splitlines():\n",
    "#     box = box.split()\n",
    "#     x, y, w, h = map(int, box[1:5])\n",
    "#     draw.rectangle([x, y, w, h], outline=\"red\", width=2)\n",
    "\n",
    "# # Save or display the image with character boxes\n",
    "# image_with_boxes.save('image_with_boxes.png')\n",
    "# image_with_boxes.show()\n"
   ]
  },
  {
   "cell_type": "code",
   "execution_count": null,
   "metadata": {},
   "outputs": [],
   "source": [
    "# im=PIL.Image.open(r\"text.jpeg\")\n",
    "# im\n",
    "\n"
   ]
  },
  {
   "cell_type": "markdown",
   "metadata": {},
   "source": [
    "#Spell check"
   ]
  },
  {
   "cell_type": "code",
   "execution_count": null,
   "metadata": {},
   "outputs": [],
   "source": [
    "# def correct_sentence(line):\n",
    "#     lines = line.strip().split(' ')\n",
    "#     new_line = \"\"\n",
    "#     similar_word = {}\n",
    "#     for l in lines:\n",
    "#         new_line += spell(l) + \" \"\n",
    "#     # similar_word[l]=spell.candidates(l)\n",
    "#     return new_line"
   ]
  },
  {
   "cell_type": "code",
   "execution_count": null,
   "metadata": {},
   "outputs": [],
   "source": [
    "# model = Sequential()"
   ]
  },
  {
   "cell_type": "code",
   "execution_count": null,
   "metadata": {},
   "outputs": [],
   "source": [
    "# model.add(Conv2D(filters=16, kernel_size=(3,3), activation='relu', input_shape=(64,64,3)))\n",
    "# model.add(MaxPooling2D())\n",
    "# model.add(Conv2D(filters=32, kernel_size=(3,3),  activation='relu'))\n",
    "# model.add(MaxPooling2D())\n",
    "# model.add(Conv2D(filters=64, kernel_size=(3,3),  activation='relu'))\n",
    "# model.add(MaxPooling2D())\n",
    "# model.add(Conv2D(filters=128, kernel_size=(3,3), activation='relu'))\n",
    "# model.add(Flatten())\n",
    "# model.add(Dense(units=128, activation='relu'))\n",
    "# model.add(Dense(units=64, activation='relu'))\n",
    "# model.add(Dense(units=36, activation='softmax'))"
   ]
  },
  {
   "cell_type": "code",
   "execution_count": null,
   "metadata": {},
   "outputs": [],
   "source": [
    "# model.compile(optimizer='adam', loss='sparse_categorical_crossentropy', metrics = ['accuracy'])"
   ]
  },
  {
   "cell_type": "code",
   "execution_count": null,
   "metadata": {},
   "outputs": [],
   "source": [
    "# history = model.fit(X_sh, y_sh ,validation_split=0.2, batch_size=25, epochs=10)"
   ]
  },
  {
   "cell_type": "code",
   "execution_count": null,
   "metadata": {},
   "outputs": [],
   "source": [
    "# import os\n",
    "# import cv2\n",
    "# import numpy as np\n",
    "# import tensorflow as tf\n",
    "# from tensorflow.keras import layers, models\n",
    "\n",
    "# # Define constants\n",
    "# IMAGE_HEIGHT, IMAGE_WIDTH = 32, 128\n",
    "# BATCH_SIZE = 32\n",
    "# EPOCHS = 10\n",
    "\n",
    "# # Function to preprocess the image and label\n",
    "# def preprocess_data(image_path, label):\n",
    "#     image = cv2.imread(image_path, cv2.IMREAD_GRAYSCALE)\n",
    "#     image = cv2.resize(image, (IMAGE_WIDTH, IMAGE_HEIGHT))\n",
    "#     image = image / 255.0\n",
    "#     label = [char_to_num[char] for char in label]\n",
    "#     return image, label\n",
    "\n",
    "# # Load the IAM dataset (adjust the paths accordingly)\n",
    "# data_path = 'E:\\iam hand data\\data'\n",
    "# image_paths = [os.path.join(data_path, 'lines', 'lines', line) for line in os.listdir(os.path.join(data_path, 'lines', 'lines'))]\n",
    "# labels = [line.split(' ')[-1].strip() for line in open(os.path.join(data_path, 'ascii', 'lines.txt')).readlines()]\n",
    "\n",
    "# # Map characters to numbers\n",
    "# char_to_num = {char: num for num, char in enumerate(\"0123456789abcdefghijklmnopqrstuvwxyzABCDEFGHIJKLMNOPQRSTUVWXYZ!\\\"#$%&'()*+,-./:;<=>?@[\\\\]^_`{|}~ \")}\n",
    "\n",
    "# # Create a dataset\n",
    "# dataset = tf.data.Dataset.from_tensor_slices((image_paths, labels))\n",
    "# dataset = dataset.map(preprocess_data)\n",
    "\n",
    "# # Build the CRNN model\n",
    "# model = models.Sequential()\n",
    "# model.add(layers.Conv2D(32, (3, 3), activation='relu', input_shape=(IMAGE_HEIGHT, IMAGE_WIDTH, 1)))\n",
    "# model.add(layers.MaxPooling2D((2, 2)))\n",
    "# model.add(layers.Conv2D(64, (3, 3), activation='relu'))\n",
    "# model.add(layers.MaxPooling2D((2, 2)))\n",
    "# model.add(layers.Conv2D(128, (3, 3), activation='relu'))\n",
    "# model.add(layers.MaxPooling2D((2, 2)))\n",
    "# model.add(layers.Flatten())\n",
    "# model.add(layers.RepeatVector(128))\n",
    "# model.add(layers.LSTM(64, return_sequences=True))\n",
    "# model.add(layers.Dense(len(char_to_num)+1, activation='softmax'))\n",
    "\n",
    "# model.compile(optimizer='adam', loss='sparse_categorical_crossentropy', metrics=['accuracy'])\n",
    "# train_size = int(0.9 * len(image_paths))\n",
    "# val_size = len(image_paths) - train_size\n",
    "\n",
    "# train_dataset = dataset.take(train_size)\n",
    "# val_dataset = dataset.skip(train_size)\n",
    "\n",
    "# # Batch and prefetch the datasets\n",
    "# train_dataset = train_dataset.batch(BATCH_SIZE).prefetch(tf.data.experimental.AUTOTUNE)\n",
    "# val_dataset = val_dataset.batch(BATCH_SIZE).prefetch(tf.data.experimental.AUTOTUNE)\n",
    "\n",
    "# # Train the model\n",
    "# model.fit(train_dataset, epochs=EPOCHS, validation_data=val_dataset)\n",
    "\n",
    "# # Save the trained model\n",
    "# model.save('crnn_model.h5')"
   ]
  },
  {
   "cell_type": "code",
   "execution_count": null,
   "metadata": {},
   "outputs": [],
   "source": [
    "# import os\n",
    "# import cv2\n",
    "# import numpy as np\n",
    "# from tensorflow import keras\n",
    "# from tensorflow.keras import layers\n",
    "# from sklearn.model_selection import train_test_split\n",
    "# from sklearn.preprocessing import LabelEncoder\n",
    "\n",
    "# # Function to load and preprocess images\n",
    "# def load_and_preprocess_data(data_path, img_size=(64, 64)):\n",
    "#     images = []\n",
    "#     labels = []\n",
    "\n",
    "#     for folder in os.listdir(data_path):\n",
    "#         label = folder\n",
    "#         folder_path = os.path.join(data_path, folder)\n",
    "\n",
    "#         for file in os.listdir(folder_path):\n",
    "#             image_path = os.path.join(folder_path, file)\n",
    "#             img = cv2.imread(image_path, cv2.IMREAD_GRAYSCALE)\n",
    "#             img = cv2.resize(img, img_size)\n",
    "#             images.append(img)\n",
    "#             labels.append(label)\n",
    "\n",
    "#     images = np.array(images) / 255.0\n",
    "#     labels = np.array(labels)\n",
    "\n",
    "#     # Encode labels\n",
    "#     label_encoder = LabelEncoder()\n",
    "#     labels = label_encoder.fit_transform(labels)\n",
    "\n",
    "#     return images, labels, label_encoder\n",
    "\n",
    "# # Load and preprocess the data\n",
    "# data_path = 'E:\\dataset\\data\\training_data'\n",
    "# images, labels, label_encoder = load_and_preprocess_data(data_path)\n",
    "\n",
    "# # Split the data into training and testing sets\n",
    "# X_train, X_test, y_train, y_test = train_test_split(images, labels, test_size=0.2, random_state=42)\n",
    "\n",
    "# # Build the CNN model\n",
    "# model = keras.Sequential([\n",
    "#     layers.Conv2D(32, (3, 3), activation='relu', input_shape=(64, 64, 1)),\n",
    "#     layers.MaxPooling2D((2, 2)),\n",
    "#     layers.Conv2D(64, (3, 3), activation='relu'),\n",
    "#     layers.MaxPooling2D((2, 2)),\n",
    "#     layers.Flatten(),\n",
    "#     layers.Dense(128, activation='relu'),\n",
    "#     layers.Dense(len(label_encoder.classes_), activation='softmax')\n",
    "# ])\n",
    "\n",
    "# # Compile the model\n",
    "# model.compile(optimizer='adam', loss='sparse_categorical_crossentropy', metrics=['accuracy'])\n",
    "\n",
    "# # Train the model\n",
    "# model.fit(X_train, y_train, epochs=10, validation_data=(X_test, y_test))\n",
    "\n",
    "# # Save the trained model\n",
    "# model.save('handwritten_text_model.h5')\n",
    "\n",
    "# # Convert handwritten text to text\n",
    "# def recognize_handwritten_text(image_path):\n",
    "#     img = cv2.imread(image_path, cv2.IMREAD_GRAYSCALE)\n",
    "#     img = cv2.resize(img, (64, 64)) / 255.0\n",
    "#     img = np.expand_dims(img, axis=0)\n",
    "#     prediction = model.predict(img)\n",
    "#     predicted_label = label_encoder.inverse_transform([np.argmax(prediction)])[0]\n",
    "#     return predicted_label\n",
    "\n",
    "# # Example: Recognize handwritten text from an image\n",
    "# image_path = 'E:\\dataset\\data\\testing_data\\R\\43227.png'\n",
    "# predicted_text = recognize_handwritten_text(image_path)\n",
    "# print(f\"Predicted Text: {predicted_text}\")\n"
   ]
  },
  {
   "cell_type": "code",
   "execution_count": 2,
   "metadata": {},
   "outputs": [],
   "source": [
    "# # This Python 3 environment comes with many helpful analytics libraries installed\n",
    "# # It is defined by the kaggle/python Docker image: https://github.com/kaggle/docker-python\n",
    "# # For example, here's several helpful packages to load\n",
    "\n",
    "# import numpy as np # linear algebra\n",
    "# import pandas as pd # data processing, CSV file I/O (e.g. pd.read_csv)\n",
    "\n",
    "# # Input data files are available in the read-only \"../input/\" directory\n",
    "# # For example, running this (by clicking run or pressing Shift+Enter) will list all files under the input directory\n",
    "\n",
    "# import os\n",
    "# for dirname, _, filenames in os.walk('/kaggle/input'):\n",
    "#     for filename in filenames:\n",
    "#         print(os.path.join(dirname, filename))\n",
    "\n",
    "# # You can write up to 20GB to the current directory (/kaggle/working/) that gets preserved as output when you create a version using \"Save & Run All\" \n",
    "# # You can also write temporary files to /kaggle/temp/, but they won't be saved outside of the current session"
   ]
  },
  {
   "cell_type": "code",
   "execution_count": 1,
   "metadata": {},
   "outputs": [],
   "source": [
    "import pytesseract\n",
    "import cv2\n",
    "import matplotlib.image as mpimg\n",
    "import matplotlib.pyplot as plt"
   ]
  },
  {
   "cell_type": "code",
   "execution_count": 7,
   "metadata": {},
   "outputs": [
    {
     "data": {
      "text/plain": [
       "<matplotlib.image.AxesImage at 0x27709148ad0>"
      ]
     },
     "execution_count": 7,
     "metadata": {},
     "output_type": "execute_result"
    },
    {
     "data": {
      "image/png": "[encoded data removed]",
      "text/plain": [
       "<Figure size 1000x1000 with 1 Axes>"
      ]
     },
     "metadata": {},
     "output_type": "display_data"
    }
   ],
   "source": [
    "img=mpimg.imread('E:\\self_lines\\selfMade_126.png')\n",
    "plt.figure(figsize=(10,10))\n",
    "plt.imshow(img, cmap ='gray')"
   ]
  },
  {
   "cell_type": "code",
   "execution_count": 9,
   "metadata": {},
   "outputs": [
    {
     "name": "stdout",
     "output_type": "stream",
     "text": [
      "been around for many years, but they were not\n",
      "\n"
     ]
    }
   ],
   "source": [
    "img=cv2.imread('E:\\self_lines\\selfMade_126.png')\n",
    "text = pytesseract.image_to_string(img)\n",
    "print(text)"
   ]
  },
  {
   "cell_type": "code",
   "execution_count": null,
   "metadata": {},
   "outputs": [],
   "source": [
    "img=mpimg.imread('a04-031-00-00.png')\n",
    "plt.figure(figsize=(10,10))\n",
    "plt.imshow(img, cmap ='gray')"
   ]
  },
  {
   "cell_type": "code",
   "execution_count": 11,
   "metadata": {},
   "outputs": [
    {
     "name": "stdout",
     "output_type": "stream",
     "text": [
      "(se BO] Soe\n",
      "\n"
     ]
    }
   ],
   "source": [
    "img=cv2.imread('a04-031-00-00.png')\n",
    "pytesseract.pytesseract.tesseract_cmd=r\"C:\\Users\\rajat.n_elxer\\AppData\\Local\\Programs\\Tesseract-OCR\\tesseract.exe\"\n",
    "text = pytesseract.image_to_string(img)\n",
    "print(text)"
   ]
  }
 ],
 "metadata": {
  "kernelspec": {
   "display_name": "Python 3",
   "language": "python",
   "name": "python3"
  },
  "language_info": {
   "codemirror_mode": {
    "name": "ipython",
    "version": 3
   },
   "file_extension": ".py",
   "mimetype": "text/x-python",
   "name": "python",
   "nbconvert_exporter": "python",
   "pygments_lexer": "ipython3",
   "version": "3.11.6"
  }
 },
 "nbformat": 4,
 "nbformat_minor": 2
}
