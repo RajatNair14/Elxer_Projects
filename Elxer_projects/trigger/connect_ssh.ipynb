{
 "cells": [
  {
   "cell_type": "code",
   "execution_count": 6,
   "metadata": {},
   "outputs": [],
   "source": [
    "import paramiko\n",
    "import getpass"
   ]
  },
  {
   "cell_type": "code",
   "execution_count": 13,
   "metadata": {},
   "outputs": [
    {
     "name": "stdout",
     "output_type": "stream",
     "text": [
      "SSH Login Successful\n",
      "\n",
      "total 0\n",
      "\n"
     ]
    }
   ],
   "source": [
    "# Replace these with your actual information\n",
    "hostname = \"103.39.139.178\"\n",
    "username = input(\"Enter username: \")\n",
    "password = getpass.getpass(\"Enter your password: \")\n",
    "# port=22\n",
    "\n",
    "client = paramiko.SSHClient()\n",
    "\n",
    "# Automatically add missing host keys (not recommended for production)\n",
    "client.set_missing_host_key_policy(paramiko.AutoAddPolicy())\n",
    "\n",
    "# Connect to the server\n",
    "client.connect(hostname, username=username, password=password)\n",
    "print(\"SSH Login Successful\")\n",
    "stdin, stdout, stderr = client.exec_command(\"cd /var\")\n",
    "\n",
    "# Read the output\n",
    "output = stdout.read().decode()\n",
    "print(output)\n",
    "\n",
    "stdin1, stdout1, stderr1 = client.exec_command(\"ls -l\")\n",
    "\n",
    "# Read the output\n",
    "output = stdout1.read().decode()\n",
    "\n",
    "print(output)\n",
    "\n",
    "stdin1.close()\n",
    "stdout1.close()\n",
    "stderr1.close()\n",
    "\n",
    "stdin.close()\n",
    "stdout.close()\n",
    "stderr.close()\n",
    "\n",
    "client.close()"
   ]
  }
 ],
 "metadata": {
  "kernelspec": {
   "display_name": "Python 3",
   "language": "python",
   "name": "python3"
  },
  "language_info": {
   "codemirror_mode": {
    "name": "ipython",
    "version": 3
   },
   "file_extension": ".py",
   "mimetype": "text/x-python",
   "name": "python",
   "nbconvert_exporter": "python",
   "pygments_lexer": "ipython3",
   "version": "3.11.6"
  }
 },
 "nbformat": 4,
 "nbformat_minor": 2
}
