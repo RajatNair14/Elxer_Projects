{
 "cells": [
  {
   "cell_type": "code",
   "execution_count": 24,
   "metadata": {},
   "outputs": [],
   "source": [
    "# import cv2\n",
    "# import pytesseract as tess"
   ]
  },
  {
   "cell_type": "code",
   "execution_count": null,
   "metadata": {},
   "outputs": [],
   "source": [
    "# import easyocr\n",
    "\n",
    "\n",
    "# reader=easyocr.Reader(['en','en'],gpu=False)\n",
    "\n",
    "# import PIL\n",
    "# from PIL import ImageDraw\n",
    "\n",
    "# im=PIL.Image.open(r\"text.png\")\n",
    "# im\n",
    "\n",
    "# bounds=reader.readtext(r\"text.png\")\n",
    "# bounds\n",
    "\n",
    "# def draw_boxes(image,bounds,color='yellow',width=8):\n",
    "#     draw=ImageDraw.Draw(image)\n",
    "#     for bound in bounds:\n",
    "#         p0,p1,p2,p3=bound[0]\n",
    "#         draw.line([*p0,*p1,*p2,*p3])\n",
    "#     return image\n",
    "# draw_boxes(im,bounds)\n",
    "\n",
    "# im.save(r\"text.png\")\n",
    "# len(bounds)\n",
    "\n",
    "# for i in bounds:\n",
    "#     print(i[1])\n",
    "    \n",
    "# f=open(r\"text.png.png txt\",mode='a',encoding='utf-8')\n",
    "\n",
    "# for i in bounds:\n",
    "#     print(i[1])\n",
    "#     f.write(i[1])"
   ]
  },
  {
   "cell_type": "code",
   "execution_count": null,
   "metadata": {},
   "outputs": [],
   "source": [
    "# tess.pytesseract.tesseract_cmd=r\"C:\\Users\\rajat.n_elxer\\AppData\\Local\\Programs\\Tesseract-OCR\\tesseract.exe\"\n",
    "\n",
    "# def capture_and_save_text(camera_index=0, save_path=\"captured_text.txt\"):\n",
    "#     # Initialize the camera\n",
    "#     cap = cv2.VideoCapture(camera_index)\n",
    "\n",
    "#     while True:\n",
    "#         # Capture a frame from the camera\n",
    "#         ret, frame = cap.read()\n",
    "\n",
    "#         # Display the frame (optional)\n",
    "#         cv2.imshow(\"Camera Feed\", frame)\n",
    "\n",
    "#         # Perform OCR on the captured frame\n",
    "#         text = pytesseract.image_to_string(frame)\n",
    "\n",
    "#         # Print and save the recognized text\n",
    "#         print(\"Recognized Text:\")\n",
    "#         print(text)\n",
    "\n",
    "#         # Save the text to a file\n",
    "#         with open(save_path, \"a\") as file:\n",
    "#             file.write(text + \"\\n\")\n",
    "\n",
    "#         # Press 'q' to exit the loop\n",
    "#         if cv2.waitKey(1) & 0xFF == ord('q'):\n",
    "#             break\n",
    "\n",
    "#     # Release the camera and close the OpenCV window\n",
    "#     cap.release()\n",
    "#     cv2.destroyAllWindows()\n",
    "\n",
    "# if __name__ == \"__main__\":\n",
    "#     capture_and_save_text()\n"
   ]
  },
  {
   "cell_type": "code",
   "execution_count": 15,
   "metadata": {},
   "outputs": [
    {
     "name": "stdout",
     "output_type": "stream",
     "text": [
      "\n"
     ]
    }
   ],
   "source": [
    "# import pytesseract as tess\n",
    "# tess.pytesseract.tesseract_cmd=r\"C:\\Users\\rajat.n_elxer\\AppData\\Local\\Programs\\Tesseract-OCR\\tesseract.exe\"\n",
    "# from PIL import Image\n",
    "\n",
    "\n",
    "# img=Image.open(\"text.png\")\n",
    "# text=tess.image_to_string(img)\n",
    "\n",
    "# # text=text.split()\n",
    "\n",
    "# print(text)"
   ]
  },
  {
   "cell_type": "code",
   "execution_count": null,
   "metadata": {},
   "outputs": [],
   "source": [
    "# from PIL import Image\n",
    "# import pytesseract\n",
    "\n",
    "# # Set the path to the Tesseract executable (change this based on your installation)\n",
    "# pytesseract.pytesseract.tesseract_cmd = r'C:\\Users\\rajat.n_elxer\\AppData\\Local\\Programs\\Tesseract-OCR\\tesseract.exe'\n",
    "# # print(pytesseract.get_languages('eng'))  # Check available languages\n",
    "\n",
    "# def extract_text_from_image(image_path):\n",
    "#     # Open the image using Pillow\n",
    "#     img = Image.open(image_path)\n",
    "#     img = Image.open(image_path)\n",
    "#     img = img.resize((800, 600))  # Resize for better OCR results\n",
    "#     img = img.convert('L')  # Convert to grayscale\n",
    "\n",
    "\n",
    "#     # Use Tesseract to do OCR on the image\n",
    "#     text = pytesseract.image_to_string(img, config='--psm 6')  # Page segmentation mode\n",
    "\n",
    "\n",
    "#     return text\n",
    "\n",
    "# if __name__ == \"__main__\":\n",
    "#     # Specify the path to your image\n",
    "#     image_path = \"text.png\"\n",
    "\n",
    "#     # Extract text from the image\n",
    "#     extracted_text = extract_text_from_image(image_path)\n",
    "\n",
    "#     # Print the extracted text\n",
    "#     print(\"Extracted Text:\")\n",
    "#     print(extracted_text)\n"
   ]
  }
 ],
 "metadata": {
  "kernelspec": {
   "display_name": "Python 3",
   "language": "python",
   "name": "python3"
  },
  "language_info": {
   "codemirror_mode": {
    "name": "ipython",
    "version": 3
   },
   "file_extension": ".py",
   "mimetype": "text/x-python",
   "name": "python",
   "nbconvert_exporter": "python",
   "pygments_lexer": "ipython3",
   "version": "3.11.6"
  }
 },
 "nbformat": 4,
 "nbformat_minor": 2
}
