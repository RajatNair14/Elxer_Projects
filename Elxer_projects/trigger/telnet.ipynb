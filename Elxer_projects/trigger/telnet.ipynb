{
 "cells": [
  {
   "cell_type": "code",
   "execution_count": 1,
   "metadata": {},
   "outputs": [
    {
     "name": "stderr",
     "output_type": "stream",
     "text": [
      "C:\\Users\\rajat.n_elxer\\AppData\\Local\\Temp\\ipykernel_12900\\815553000.py:1: DeprecationWarning: 'telnetlib' is deprecated and slated for removal in Python 3.13\n",
      "  from telnetlib import Telnet\n"
     ]
    }
   ],
   "source": [
    "# from telnetlib import Telnet\n",
    "\n",
    "# # Replace these with your Telnet server details\n",
    "# host = \"10.255.4.68\"\n",
    "# port = 23  # Default Telnet port\n",
    "\n",
    "# # Connect to the Telnet server\n",
    "# tn = Telnet(host, port)\n",
    "\n",
    "# # Perform some interaction with the Telnet server\n",
    "# tn.write(b\"Hello, Telnet server!\\n\")\n",
    "\n",
    "# # Read and print the response\n",
    "# response = tn.read_all()\n",
    "# print(response.decode(\"utf-8\"))\n",
    "\n",
    "# # Close the Telnet connection\n",
    "# tn.close()\n"
   ]
  },
  {
   "cell_type": "code",
   "execution_count": 1,
   "metadata": {},
   "outputs": [
    {
     "name": "stderr",
     "output_type": "stream",
     "text": [
      "C:\\Users\\rajat.n_elxer\\AppData\\Local\\Temp\\ipykernel_12988\\336869794.py:2: DeprecationWarning: 'telnetlib' is deprecated and slated for removal in Python 3.13\n",
      "  import telnetlib\n"
     ]
    }
   ],
   "source": [
    "# import getpass\n",
    "# import telnetlib\n",
    "\n",
    "# Host=\"\"\n",
    "# user=input(\"Enter your Telnet user name: \")\n",
    "# password=getpass.getpass()\n",
    "\n",
    "# tn=telnetlib.Telnet(Host)\n",
    "# tn.read_until(b\"User name: \")\n",
    "# tn.write(user.encode(\"ascii\")+b\"\\n\")\n",
    "\n",
    "# if password:\n",
    "#     tn.read_until(b\"Password: \")\n",
    "#     tn.write(user.encode(\"ascii\")+b\"\\n\")\n",
    "\n",
    "# tn.write(b\"ls \\n\")\n",
    "# tn.exit(b\"exit \\n\")\n",
    "\n",
    "# print(tn.read_all.decode('ascii'))"
   ]
  }
 ],
 "metadata": {
  "kernelspec": {
   "display_name": "Python 3",
   "language": "python",
   "name": "python3"
  },
  "language_info": {
   "codemirror_mode": {
    "name": "ipython",
    "version": 3
   },
   "file_extension": ".py",
   "mimetype": "text/x-python",
   "name": "python",
   "nbconvert_exporter": "python",
   "pygments_lexer": "ipython3",
   "version": "3.11.6"
  }
 },
 "nbformat": 4,
 "nbformat_minor": 2
}
