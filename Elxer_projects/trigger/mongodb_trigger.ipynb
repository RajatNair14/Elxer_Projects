{
 "cells": [
  {
   "cell_type": "code",
   "execution_count": 7,
   "metadata": {},
   "outputs": [],
   "source": [
    "import pymongo\n",
    "import keyboard\n",
    "import time"
   ]
  },
  {
   "cell_type": "code",
   "execution_count": 28,
   "metadata": {},
   "outputs": [],
   "source": [
    "def monitor_database():\n",
    "    while True:\n",
    "        mongo_uri = \"mongodb://localhost:27017\"\n",
    "        collection_name = \"emp\"\n",
    "\n",
    "        client = pymongo.MongoClient(mongo_uri)\n",
    "        query = {\"flag\": 1}\n",
    "        \n",
    "        db = client[\"elxer\"]\n",
    "        collection = db[collection_name]\n",
    "\n",
    "        for document in collection.find(query):\n",
    "            print(document)\n",
    "            print(\"Logic is Executing\")\n",
    "            empid=document[\"eid\"]\n",
    "            db.emp.update_one({\"eid\": empid}, {\"$set\": {\"flag\":0}})\n",
    "            print(\"Logic Executed\")\n",
    "            print(\"Flag Set to 0\")\n",
    "\n",
    "        \n",
    "        if keyboard.is_pressed('q'):\n",
    "            exit=input(\"Do you want to Exit the code? (if yes= press y, no= press any other key)\")\n",
    "            if exit.lower()==\"y\":\n",
    "                break\n",
    "\n",
    "        time.sleep(1)   \n",
    "\n",
    "if __name__ == \"__main__\":\n",
    "    monitor_database()\n"
   ]
  }
 ],
 "metadata": {
  "kernelspec": {
   "display_name": "Python 3",
   "language": "python",
   "name": "python3"
  },
  "language_info": {
   "codemirror_mode": {
    "name": "ipython",
    "version": 3
   },
   "file_extension": ".py",
   "mimetype": "text/x-python",
   "name": "python",
   "nbconvert_exporter": "python",
   "pygments_lexer": "ipython3",
   "version": "3.11.6"
  }
 },
 "nbformat": 4,
 "nbformat_minor": 2
}
