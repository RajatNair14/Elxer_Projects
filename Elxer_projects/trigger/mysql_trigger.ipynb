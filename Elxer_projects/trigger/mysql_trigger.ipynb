{
 "cells": [
  {
   "cell_type": "code",
   "execution_count": 1,
   "metadata": {},
   "outputs": [],
   "source": [
    "import mysql.connector\n",
    "import time\n",
    "import keyboard"
   ]
  },
  {
   "cell_type": "code",
   "execution_count": 5,
   "metadata": {},
   "outputs": [
    {
     "name": "stdout",
     "output_type": "stream",
     "text": [
      "(12, 'Chinnu', 1)\n",
      "Logic is Executing\n",
      "Logic Executed\n",
      "Flag Set to 0\n",
      "(13, 'papa', 1)\n",
      "Logic is Executing\n",
      "Logic Executed\n",
      "Flag Set to 0\n",
      "(14, 'maa', 1)\n",
      "Logic is Executing\n",
      "Logic Executed\n",
      "Flag Set to 0\n"
     ]
    }
   ],
   "source": [
    "def monitor_database():\n",
    "    while True:\n",
    "        try:\n",
    "            connection = mysql.connector.connect(\n",
    "                host=\"localhost\",\n",
    "                user=\"root\",\n",
    "                password=\"12345\",\n",
    "                database=\"elxer\"\n",
    "            )\n",
    "            cursor = connection.cursor()\n",
    "\n",
    "            \n",
    "            cursor.execute(\"select * from emp where flag = 1\")\n",
    "            logs = cursor.fetchall()\n",
    "\n",
    "            for log in logs:\n",
    "                print(log)\n",
    "                empid = log[0]\n",
    "                if log[2] == 1:\n",
    "                    print(\"Logic is Executing\")\n",
    "                    cursor.execute(f\"UPDATE emp SET flag = 0 WHERE eid = {empid}\")\n",
    "                    connection.commit()\n",
    "                    print(\"Logic Executed\")\n",
    "                    print(\"Flag Set to 0\")\n",
    "                    \n",
    "            if keyboard.is_pressed('q'):\n",
    "                exit=input(\"Do you want to Exit the code? (if yes= press y, no= press any other key)\")\n",
    "                if exit.lower()==\"y\":\n",
    "                    break\n",
    "            \n",
    "        except Exception as e:\n",
    "            print(f\"Error: {e}\")\n",
    "\n",
    "        time.sleep(1)\n",
    "\n",
    "if __name__ == \"__main__\":\n",
    "    monitor_database()"
   ]
  }
 ],
 "metadata": {
  "kernelspec": {
   "display_name": "Python 3",
   "language": "python",
   "name": "python3"
  },
  "language_info": {
   "codemirror_mode": {
    "name": "ipython",
    "version": 3
   },
   "file_extension": ".py",
   "mimetype": "text/x-python",
   "name": "python",
   "nbconvert_exporter": "python",
   "pygments_lexer": "ipython3",
   "version": "3.11.6"
  }
 },
 "nbformat": 4,
 "nbformat_minor": 2
}
