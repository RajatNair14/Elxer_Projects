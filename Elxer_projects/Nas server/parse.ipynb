{
 "cells": [
  {
   "cell_type": "code",
   "execution_count": 20,
   "metadata": {},
   "outputs": [],
   "source": [
    "# data=\"970 Feb/24/2024 10:25:52 memory pppoe. ppp. info <ррое-01060797>: connected \"\n",
    "# data=\"Feb/24/2024 10:25:51 memory pppoe. ppp. error <6ес2>: user 01061508 authentication failed\"\n",
    "# data=\"987 Feb/24/2024 10:25:53 memory pppoe, info PPPoE connection established from 7C:A9:6B:6A:A8:D1\"\n",
    "# data=\"977 Feb/24/2024 10:25:53 memory pppoe. ppp. error pppoe. ppp. emor <ce49>: user jishan 20117 authentication failed \"\n",
    "# data=\"992 Feb/24/2024 10:25:54 pppoe. ppp. error <51b 1>: user akeshwartiwari authentication failed\"\n",
    "data=\"<ce49>: user jishan 20117 authentication failed\"\n",
    "# \"<6ес2>: user og.dsj.umeshsharma authentication failed\""
   ]
  },
  {
   "cell_type": "code",
   "execution_count": 21,
   "metadata": {},
   "outputs": [
    {
     "name": "stdout",
     "output_type": "stream",
     "text": [
      "mac_id2: jishan 20117\n",
      "event: authentication failed\n"
     ]
    }
   ],
   "source": [
    "import re\n",
    "from datetime import datetime\n",
    "\n",
    "date_pattern=r\"\\w+/\\d+/\\d+\"\n",
    "time_pattern=r\"\\d+:\\d+:\\d+\"\n",
    "mac_id_pattern=r\"([a-zA-Z0-9]+(:?:[a-zA-Z0-9]+)+)\"\n",
    "id_pattern1=r\"\\w+-(\\d+)\"\n",
    "id_pattern2=r\"user (\\w+ \\d+)\"\n",
    "id_pattern3=r\"user ((\\w+)\\S+)\"\n",
    "event_pattern=r\"authentication failed|connected|disconnected|connection established\"\n",
    "\n",
    "# date=re.findall(date_pattern,data)\n",
    "# parsed_date=date\n",
    "# date=datetime.strptime(parsed_date[0], \"%b/%d/%Y\")\n",
    "# date=date.strftime(\"%d/%m/%Y\")\n",
    "# # print(date)\n",
    "\n",
    "# time=re.findall(time_pattern,data)\n",
    "# parsed_time=time\n",
    "# # print(parsed_time[0])\n",
    "# date_time=f\"{date} {parsed_time[0]}\"\n",
    "# print(\"date_time:\",date_time)\n",
    "\n",
    "mac_id=re.findall(mac_id_pattern,data)\n",
    "parsed_mac_id=mac_id\n",
    "if len(parsed_mac_id)!=0:\n",
    "    print(\"mac_id:\",parsed_mac_id[0][0])\n",
    "else:\n",
    "    pass \n",
    "\n",
    "id=re.findall(id_pattern1,data)\n",
    "parsed_id=id\n",
    "if len(parsed_id)!=0:\n",
    "    print(\"mac_id1:\",parsed_id[0])\n",
    "else:\n",
    "    id=re.findall(id_pattern2,data)\n",
    "    parsed_id=id\n",
    "    if len(parsed_id)!=0:\n",
    "        print(\"mac_id2:\",parsed_id[0])\n",
    "    else:\n",
    "        id=re.findall(id_pattern3,data)\n",
    "        parsed_id=id\n",
    "        if len(parsed_id)!=0:\n",
    "            print(\"mac_id3:\",parsed_id[0][0])\n",
    "        else:\n",
    "            pass\n",
    "    \n",
    "event=re.findall(event_pattern,data)\n",
    "parsed_event=event\n",
    "print(\"event:\",parsed_event[0])\n"
   ]
  }
 ],
 "metadata": {
  "kernelspec": {
   "display_name": "Python 3",
   "language": "python",
   "name": "python3"
  },
  "language_info": {
   "codemirror_mode": {
    "name": "ipython",
    "version": 3
   },
   "file_extension": ".py",
   "mimetype": "text/x-python",
   "name": "python",
   "nbconvert_exporter": "python",
   "pygments_lexer": "ipython3",
   "version": "3.11.6"
  }
 },
 "nbformat": 4,
 "nbformat_minor": 2
}
