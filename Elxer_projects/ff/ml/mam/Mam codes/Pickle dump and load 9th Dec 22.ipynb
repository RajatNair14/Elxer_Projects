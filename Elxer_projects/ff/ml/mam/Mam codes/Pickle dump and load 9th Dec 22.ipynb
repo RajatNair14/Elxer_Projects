{
 "cells": [
  {
   "cell_type": "code",
   "execution_count": 1,
   "metadata": {
    "collapsed": true
   },
   "outputs": [],
   "source": [
    "import pickle"
   ]
  },
  {
   "cell_type": "code",
   "execution_count": 2,
   "metadata": {
    "collapsed": true
   },
   "outputs": [],
   "source": [
    "c = \"some string\"\n",
    "d = {'a':1, \"b\":2}\n",
    "e = [1,2,3]\n",
    "f = (10,20)"
   ]
  },
  {
   "cell_type": "code",
   "execution_count": 3,
   "metadata": {
    "collapsed": true
   },
   "outputs": [],
   "source": [
    "f1 = open('test.bin','wb')\n",
    "pickle.dump(c, f1)\n",
    "pickle.dump(d, f1)\n",
    "pickle.dump(e, f1)\n",
    "pickle.dump(f, f1)\n",
    "f1.close()"
   ]
  },
  {
   "cell_type": "code",
   "execution_count": 12,
   "metadata": {},
   "outputs": [
    {
     "name": "stdout",
     "output_type": "stream",
     "text": [
      "some string\n",
      "{'a': 1, 'b': 2}\n",
      "[1, 2, 3]\n",
      "(10, 20)\n"
     ]
    }
   ],
   "source": [
    "try:\n",
    "    f1 = open('test.bin','rb')\n",
    "    while True:\n",
    "        print(pickle.load(f1))\n",
    "except:\n",
    "    f1.close()"
   ]
  },
  {
   "cell_type": "code",
   "execution_count": 9,
   "metadata": {
    "collapsed": true
   },
   "outputs": [],
   "source": []
  },
  {
   "cell_type": "code",
   "execution_count": null,
   "metadata": {
    "collapsed": true
   },
   "outputs": [],
   "source": []
  }
 ],
 "metadata": {
  "kernelspec": {
   "display_name": "Python 3",
   "language": "python",
   "name": "python3"
  },
  "language_info": {
   "codemirror_mode": {
    "name": "ipython",
    "version": 3
   },
   "file_extension": ".py",
   "mimetype": "text/x-python",
   "name": "python",
   "nbconvert_exporter": "python",
   "pygments_lexer": "ipython3",
   "version": "3.6.3"
  }
 },
 "nbformat": 4,
 "nbformat_minor": 2
}
